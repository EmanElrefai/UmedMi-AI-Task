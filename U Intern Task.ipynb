{
 "cells": [
  {
   "cell_type": "markdown",
   "metadata": {},
   "source": [
    "# Part 1 ( Python ):\n"
   ]
  },
  {
   "cell_type": "markdown",
   "metadata": {},
   "source": [
    "### Q1: \n",
    "    Write a program that computes the value of a+aa+aaa+aaaa with a given digit as the value of a. Suppose the following input is supplied to the program: 9 Then, the output should be: 11106"
   ]
  },
  {
   "cell_type": "code",
   "execution_count": 1,
   "metadata": {},
   "outputs": [
    {
     "name": "stdout",
     "output_type": "stream",
     "text": [
      "Enter value: 9\n",
      "11106\n"
     ]
    }
   ],
   "source": [
    "#Enter the value you need to add\n",
    "value = input(\"Enter value: \")\n",
    "\n",
    "#set a variable equal zero to avoid random values\n",
    "total=0\n",
    "\n",
    "#calculate every part and casting it to int for calculations\n",
    "for i in range(1,5):\n",
    "    total+=int(value*i)  \n",
    "\n",
    "#print the putput for users\n",
    "print(total) \n"
   ]
  },
  {
   "cell_type": "markdown",
   "metadata": {},
   "source": [
    "### Q2:\n",
    "    Please write a program to print the running time of execution of \"1+1\" for 100 times.\n"
   ]
  },
  {
   "cell_type": "code",
   "execution_count": null,
   "metadata": {},
   "outputs": [],
   "source": [
    "#For measuring running time\n",
    "from timeit import Timer\n",
    "\n",
    "input_to_measure=\"for i in range(100):1+1\"\n",
    "t = Timer(input_to_measure)\n",
    "\n",
    "#display the output\n",
    "print (t.timeit())"
   ]
  },
  {
   "cell_type": "markdown",
   "metadata": {},
   "source": [
    "### Q3:\n",
    "    You are required to write a program to sort the (name, age, height) tuples by ascending order where name is string, age and height are numbers. The tuples are input by console. The sort criteria is: 1: Sort based on name; 2: Then sort based on age; 3: Then sort by score. The priority is that name > age > score. If the following tuples are given as input to the program: Tom,19,80 John,20,90 Jony,17,91 Jony,17,93 Json,21,85 Then, the output of the program should be: [('John', '20', '90'), ('Jony', '17', '91'), ('Jony', '17', '93'), ('Json', '21', '85'), ('Tom', '19', '80')]"
   ]
  },
  {
   "cell_type": "code",
   "execution_count": null,
   "metadata": {},
   "outputs": [],
   "source": [
    "# s='Tom,19,80 John,20,90 Jony,17,91 Jony,17,93 Json,21,85'\n",
    "s= input()\n",
    "\n",
    "#tuple for every record\n",
    "lst = [tuple(x.split(',')) for x in s.split()]\n",
    "\n",
    "#sort by ascending order\n",
    "print(sorted(lst, key=lambda x: (x[0], x[1], x[2])))\n"
   ]
  },
  {
   "cell_type": "markdown",
   "metadata": {},
   "source": [
    "### Q4:\n",
    "    Write a Python program to count the number of characters (character frequency) in a string.\n",
    "\n",
    "Examble: ('google.com') => {'g': 2, 'o': 3, 'l': 1, 'e': 1, '.': 1, 'c': 1, 'm': 1}"
   ]
  },
  {
   "cell_type": "code",
   "execution_count": null,
   "metadata": {},
   "outputs": [],
   "source": [
    "# s= \"google.com\"\n",
    "s = input()\n",
    "\n",
    "freq = {} \n",
    "  \n",
    "for i in s: \n",
    "    if i in freq: \n",
    "        freq[i] += 1\n",
    "    else: \n",
    "        freq[i] = 1\n",
    "             \n",
    "print (str(freq))"
   ]
  },
  {
   "cell_type": "markdown",
   "metadata": {},
   "source": [
    "\n",
    "### Q5:\n",
    "    Write a Python program to add 'ing' at the end of a given string (length should be at least 3). If the given string already ends with 'ing' then add 'ly' instead. If the string length of the given string is less than 3, leave it unchanged.\n",
    "Examble \n",
    "\n",
    "        => ab => ab\n",
    "\n",
    "        => abc => abcing \n",
    "        \n",
    "        => string => stringly"
   ]
  },
  {
   "cell_type": "code",
   "execution_count": null,
   "metadata": {},
   "outputs": [],
   "source": [
    "def add_string(str1):\n",
    "    length = len(str1)\n",
    "\n",
    "    if length > 2:\n",
    "        if str1[-3:] == 'ing':\n",
    "            str1 += 'ly'\n",
    "        else:\n",
    "            str1 += 'ing'\n",
    "\n",
    "    return str1\n",
    "# examples\n",
    "print(add_string('ab'))\n",
    "print(add_string('abc'))\n",
    "print(add_string('string'))"
   ]
  },
  {
   "cell_type": "markdown",
   "metadata": {},
   "source": [
    "### Q6:\n",
    "    Write a Python program to add 5 seconds with the current time.\n",
    "\n",
    "Examble: Current time=> 13:09:38.491219 After 5 seconds => 13:09:43.491219"
   ]
  },
  {
   "cell_type": "code",
   "execution_count": null,
   "metadata": {},
   "outputs": [],
   "source": [
    "import datetime\n",
    "x= datetime.datetime.now()\n",
    "y = x + datetime.timedelta(0,5)\n",
    "print(x.time())\n",
    "print(y.time())"
   ]
  },
  {
   "cell_type": "markdown",
   "metadata": {},
   "source": [
    "### Q7:\n",
    "\n",
    "Please solve this problem and write your code here?\n",
    "\n",
    "https://www.hackerrank.com/challenges/np-polynomials/problem"
   ]
  },
  {
   "cell_type": "code",
   "execution_count": null,
   "metadata": {},
   "outputs": [],
   "source": [
    "import numpy\n",
    "\n",
    "n=int(input())\n",
    "a=numpy.array([input().split() for i in range(n)],float)\n",
    "\n",
    "# set the precision of the output\n",
    "numpy.set_printoptions(legacy='1.13') \n",
    "\n",
    "#output\n",
    "print (numpy.linalg.det(a))\n"
   ]
  },
  {
   "cell_type": "markdown",
   "metadata": {},
   "source": [
    "### Q8:\n",
    "\n",
    "Please solve this problem and write your code here?\n",
    "\n",
    "https://www.hackerrank.com/challenges/np-linear-algebra/problem"
   ]
  },
  {
   "cell_type": "code",
   "execution_count": null,
   "metadata": {},
   "outputs": [],
   "source": [
    "import numpy as np\n",
    "\n",
    "P=list(map(float,input().split()))\n",
    "x=float(input())\n",
    "\n",
    "#output\n",
    "print(np.polyval(np.array(P),x))"
   ]
  },
  {
   "cell_type": "markdown",
   "metadata": {},
   "source": [
    "# Part2 (GUI):\n",
    "    Please create simple calculator like this image ( with the same colors and architecture ) "
   ]
  },
  {
   "cell_type": "markdown",
   "metadata": {},
   "source": [
    "![caption](files/image.jpg)"
   ]
  },
  {
   "cell_type": "code",
   "execution_count": null,
   "metadata": {},
   "outputs": [],
   "source": [
    " # import everything from tkinter module \n",
    "from tkinter import *\n",
    " \n",
    "def btnClick(numbers):\n",
    "    global operator\n",
    "    operator=operator+str(numbers)\n",
    "    text_Input.set(operator)\n",
    "\n",
    "# Function to clear the contents \n",
    "# of text entry box \n",
    "def clear(): \n",
    "    global operator\n",
    "    operator = \"\" \n",
    "    text_Input.set(\"\")\n",
    "\n",
    " #Function to evaluate the final expression \n",
    "def equalpress(): \n",
    "\n",
    "        global operator\n",
    "  \n",
    "        # eval function evaluate the expression \n",
    "        # and str function convert the result \n",
    "        # into string \n",
    "        sumup= str(eval(operator)) \n",
    "  \n",
    "        text_Input.set(sumup) \n",
    "  \n",
    "        # initialze the expression variable \n",
    "        # by empty string \n",
    "        operator = \"\" \n",
    "  \n",
    "  \n",
    "# create a GUI window \n",
    "cal= Tk()\n",
    "    \n",
    "# set the title of GUI window \n",
    "cal.title(\"Calculator\")\n",
    "    \n",
    "operator=\"\"\n",
    "  \n",
    "# StringVar() is the variable class \n",
    "# we create an instance of this class \n",
    "text_Input = StringVar()\n",
    "text_Input.set('Start Calculating...')\n",
    "  \n",
    "# create the text entry box for \n",
    "txtDisplay = Entry(cal,font=('arial',20,'bold') ,textvariable=text_Input ,bd=30,insertwidth=4,\n",
    "                       bg=\"green\", justify='right').grid(columnspan=4)\n",
    "    \n",
    "\n",
    "btn7 = Button(cal,padx=16,pady=16, bd=8,fg='black',  \n",
    "                     font=('arial',20,'bold'),text='7' ,command=lambda:btnClick(7)) .grid(row=1, column=0)\n",
    "btn8 = Button(cal,padx=16, pady=16,bd=8,fg='black',  \n",
    "                     font=('arial',20,'bold'),text='8' ,command=lambda:btnClick(8)) .grid(row=1, column=1)\n",
    "btn9 = Button(cal,padx=16, pady=16,bd=8,fg='black',  \n",
    "                     font=('arial',20,'bold'),text='9 ' ,command=lambda:btnClick(9)) .grid(row=1, column=2)\n",
    "Clear = Button(cal,padx=16, pady=16,bd=8,fg='black',  \n",
    "                     font=('arial',20,'bold'),bg=\"green\",text=' C' ,command=lambda:clear()) .grid(row=1, column=3)\n",
    "#=====================================================\n",
    "btn4 = Button(cal,padx=16, pady=16,bd=8,fg='black',  \n",
    "                     font=('arial',20,'bold'),text='4' ,command=lambda:btnClick(4)) .grid(row=2, column=0)\n",
    "btn5 = Button(cal,padx=16, pady=16,bd=8,fg='black',  \n",
    "                     font=('arial',20,'bold'),text='5' ,command=lambda:btnClick(5)) .grid(row=2, column=1)\n",
    "btn6= Button(cal,padx=16, pady=16,bd=8,fg='black',  \n",
    "                     font=('arial',20,'bold'),text='6' ,command=lambda:btnClick(6)) .grid(row=2, column=2)\n",
    "Addition= Button(cal,padx=16, pady=16,bd=8,fg='black',  \n",
    "                     font=('arial',20,'bold'),bg=\"orange\",text=' +' ,command=lambda:btnClick('+')) .grid(row=2, column=3)\n",
    "#=====================================================\n",
    "btn1 = Button(cal,padx=16, pady=16,bd=8,fg='black',  \n",
    "                     font=('arial',20,'bold'),text='1' ,command=lambda:btnClick(1)) .grid(row=3, column=0)\n",
    "btn2 = Button(cal,padx=16, pady=16,bd=8,fg='black',  \n",
    "                     font=('arial',20,'bold'),text='2',command=lambda:btnClick(2) ) .grid(row=3, column=1)\n",
    "btn3= Button(cal,padx=16, pady=16,bd=8,fg='black',  \n",
    "                     font=('arial',20,'bold'),text='3' ,command=lambda:btnClick(3)) .grid(row=3, column=2)\n",
    "Subtriction = Button(cal,padx=16, pady=16,bd=8,fg='black',  \n",
    "                     font=('arial',20,'bold'),bg=\"orange\",text=' - ' ,command=lambda:btnClick('-')) .grid(row=3, column=3) \n",
    "#=====================================================\n",
    "btn0 = Button(cal,padx=16, pady=16,bd=8,fg='black',  \n",
    "                     font=('arial',20,'bold'),text='0' ,command=lambda:btnClick(0)) .grid(row=4, column=0)\n",
    "Dot= Button(cal,padx=16, pady=16,bd=8,fg='black',  \n",
    "                     font=('arial',20,'bold'),bg=\"orange\",text=' .',command=lambda:btnClick('.') ) .grid(row=4, column=1)\n",
    "Division= Button(cal,padx=16, pady=16,bd=8,fg='black',  \n",
    "                     font=('arial',20,'bold'),bg=\"orange\",text=' /' ,command=lambda:btnClick('/')) .grid(row=4, column=2)\n",
    "Multi= Button(cal,padx=16, pady=16,bd=8,fg='black',  \n",
    "                     font=('arial',20,'bold'),bg=\"orange\",text=' x' ,command=lambda:btnClick('*')) .grid(row=4, column=3)\n",
    "\n",
    "#=====================================================\n",
    "equal = Button(cal,padx=16, pady=16,bd=8,fg='black',  \n",
    "                     font=('arial',20,'bold'),bg=\"green\",text=' =' ,command=lambda:equalpress()) .grid(row=5, column=0 )\n",
    "equal1 = Button(cal,padx=16, pady=16,bd=8,fg='black',  \n",
    "                     font=('arial',20,'bold'),bg=\"green\",text=' ' ,command=lambda:equalpress()) .grid(row=5, column=1 )\n",
    "left_parenthese= Button(cal,padx=16, pady=16,bd=8,fg='black',  \n",
    "                     font=('arial',20,'bold'),bg=\"orange\",text=' (' ,command=lambda:btnClick('(')) .grid(row=5, column=2)\n",
    "right_parenthese= Button(cal,padx=16, pady=16,bd=8,fg='black',  \n",
    "                     font=('arial',20,'bold'),bg=\"orange\",text=' )',command=lambda:btnClick(')') ) .grid(row=5, column=3)\n",
    "\n",
    "cal.mainloop()\n"
   ]
  }
 ],
 "metadata": {
  "kernelspec": {
   "display_name": "Python 3",
   "language": "python",
   "name": "python3"
  },
  "language_info": {
   "codemirror_mode": {
    "name": "ipython",
    "version": 3
   },
   "file_extension": ".py",
   "mimetype": "text/x-python",
   "name": "python",
   "nbconvert_exporter": "python",
   "pygments_lexer": "ipython3",
   "version": "3.7.6"
  }
 },
 "nbformat": 4,
 "nbformat_minor": 4
}
